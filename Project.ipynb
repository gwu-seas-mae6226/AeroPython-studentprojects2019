{
 "cells": [
  {
   "cell_type": "code",
   "execution_count": 1,
   "metadata": {},
   "outputs": [],
   "source": [
    "import os\n",
    "import numpy as np\n",
    "from scipy import integrate, linalg\n",
    "from matplotlib import pyplot as py\n",
    "%matplotlib inline"
   ]
  },
  {
   "cell_type": "code",
   "execution_count": 2,
   "metadata": {},
   "outputs": [],
   "source": [
    "filepath = os.path.join('geminism.dat')\n",
    "with open(filepath, 'r') as infile:\n",
    "    x, y = np.loadtxt(infile, dtype=float, unpack=True)\n",
    "    \n",
    "filepathe = os.path.join('gemini_experimental.csv')\n",
    "with open(filepathe, 'r') as infile:\n",
    "    Alpha_exp, CL_exp = np.loadtxt(infile, dtype=float, delimiter=',', unpack=True)"
   ]
  },
  {
   "cell_type": "code",
   "execution_count": 3,
   "metadata": {},
   "outputs": [
    {
     "data": {
      "image/png": "[encoded data removed]",
      "text/plain": [
       "<Figure size 720x720 with 1 Axes>"
      ]
     },
     "metadata": {},
     "output_type": "display_data"
    }
   ],
   "source": [
    "width = 10\n",
    "py.figure(figsize=(width, width))\n",
    "py.grid()\n",
    "py.xlabel('x', fontsize=16)\n",
    "py.ylabel('y', fontsize=16)\n",
    "py.scatter(x, y, color='k', linewidth=2)\n",
    "py.axis('scaled', adjustable='box')\n",
    "py.xlim(-0.1, 1.1)\n",
    "py.ylim(-0.1, 0.2);"
   ]
  },
  {
   "cell_type": "code",
   "execution_count": 4,
   "metadata": {},
   "outputs": [],
   "source": [
    "class Panel:\n",
    "    def __init__(self, xa, ya, xb, yb):\n",
    "        self.xa, self.ya = xa, ya\n",
    "        self.xb, self.yb = xb, yb\n",
    "        \n",
    "        self.xc, self.yc = (xa + xb) / 2, (ya + yb) / 2\n",
    "        self.length = np.sqrt((xb - xa)**2 + (yb - ya)**2)\n",
    "        \n",
    "        if xb - xa <= 0.0:\n",
    "            self.beta = np.arccos((yb - ya) / self.length)\n",
    "        elif xb - xa > 0.0:\n",
    "            self.beta = np.pi + np.arccos(-(yb - ya) / self.length)\n",
    "            \n",
    "        if self.beta <= np.pi:\n",
    "            self.loc = 'upper'\n",
    "        else:\n",
    "            self.loc = 'lower'\n",
    "            \n",
    "        self.sigma = 0.0\n",
    "        self.vt = 0.0\n",
    "        self.cp = 0.0"
   ]
  },
  {
   "cell_type": "code",
   "execution_count": 5,
   "metadata": {},
   "outputs": [],
   "source": [
    "N = 78\n",
    "panels = np.empty(N, dtype=object)\n",
    "for i in range(N):\n",
    "    panels[i] = Panel(x[i], y[i], x[i+1], y[i+1])"
   ]
  },
  {
   "cell_type": "code",
   "execution_count": 6,
   "metadata": {},
   "outputs": [
    {
     "data": {
      "image/png": "[encoded data removed]",
      "text/plain": [
       "<Figure size 720x720 with 1 Axes>"
      ]
     },
     "metadata": {},
     "output_type": "display_data"
    }
   ],
   "source": [
    "width = 10\n",
    "py.figure(figsize=(width, width))\n",
    "py.grid()\n",
    "py.xlabel('x', fontsize=16)\n",
    "py.ylabel('y', fontsize=16)\n",
    "py.plot(np.append([panel.xa for panel in panels], panels[0].xa),\n",
    "            np.append([panel.ya for panel in panels], panels[0].ya),\n",
    "            linestyle='-', linewidth=1, marker='o', markersize=6, color='#CD2305')\n",
    "py.axis('scaled', adjustable='box')\n",
    "py.xlim(-0.1, 1.1)\n",
    "py.ylim(-0.1, 0.15);"
   ]
  },
  {
   "cell_type": "code",
   "execution_count": 7,
   "metadata": {},
   "outputs": [],
   "source": [
    "class Freestream:\n",
    "    def __init__(self, u_inf=1.0, alpha=0.0):\n",
    "        self.u_inf = u_inf\n",
    "        self.alpha = np.radians(alpha)\n",
    "\n",
    "def integral(x, y, panel, dxdk, dydk):\n",
    "    def integrand(s):\n",
    "        return (((x - (panel.xa - np.sin(panel.beta) * s)) * dxdk +\n",
    "                 (y - (panel.ya + np.cos(panel.beta) * s)) * dydk) /\n",
    "                ((x - (panel.xa - np.sin(panel.beta) * s))**2 + \n",
    "                 (y - (panel.ya + np.cos(panel.beta) * s))**2))\n",
    "    return integrate.quad(integrand, 0.0, panel.length)[0]\n",
    "\n",
    "def source_contribution_normal(panels):\n",
    "    A = np.empty((panels.size, panels.size), dtype=float)\n",
    "    np.fill_diagonal(A, 0.5)\n",
    "    for i, panel_i in enumerate(panels):\n",
    "        for j, panel_j in enumerate(panels):\n",
    "            if i != j:\n",
    "                A[i, j] = 0.5 / np.pi * integral(panel_i.xc, panel_i.yc, \n",
    "                                                 panel_j,\n",
    "                                                 np.cos(panel_i.beta),\n",
    "                                                 np.sin(panel_i.beta))\n",
    "    return A\n",
    "\n",
    "def vortex_contribution_normal(panels):\n",
    "    A = np.empty((panels.size, panels.size), dtype=float)\n",
    "    np.fill_diagonal(A, 0.0)\n",
    "    for i, panel_i in enumerate(panels):\n",
    "        for j, panel_j in enumerate(panels):\n",
    "            if i != j:\n",
    "                A[i, j] = -0.5 / np.pi * integral(panel_i.xc, panel_i.yc,\n",
    "                                                  panel_j,\n",
    "                                                  np.sin(panel_i.beta),\n",
    "                                                  -np.cos(panel_i.beta))\n",
    "    return A\n",
    "\n",
    "def kutta_condition(A_source, B_vortex):\n",
    "    b = np.empty(A_source.shape[0] + 1, dtype=float)\n",
    "    b[:-1] = B_vortex[0, :] + B_vortex[-1, :]\n",
    "    b[-1] = -np.sum(A_source[0,:] + A_source[-1,:])\n",
    "    return b\n",
    "\n",
    "def build_singularity_matrix(A_source, B_vortex):\n",
    "    A = np.empty((A_source.shape[0] + 1, A_source.shape[1] + 1), dtype = float)\n",
    "    A[:-1, :-1] = A_source\n",
    "    A[:-1, -1] = np.sum(B_vortex, axis=1)\n",
    "    A[-1, :] = kutta_condition(A_source, B_vortex)\n",
    "    return A\n",
    "\n",
    "def build_rhs_vector(panels, freestream, un=0.0):\n",
    "    b = np.empty(panels.size + 1, dtype=float)\n",
    "    b[:-1] += un\n",
    "    for i, panel in enumerate(panels):\n",
    "        b[i] = -freestream.u_inf * np.cos(freestream.alpha - panel.beta)\n",
    "    b[-1] = -freestream.u_inf * (np.sin(freestream.alpha - panels[0].beta) +\n",
    "                                 np.sin(freestream.alpha - panels[-1].beta))\n",
    "    return b\n",
    "\n",
    "def compute_tangential_velocity(panels, freestream, gamma, A_source, B_vortex):\n",
    "    A = np.empty((panels.size, panels.size + 1), dtype=float)\n",
    "    A[:, :-1] = B_vortex\n",
    "    A[:, -1] = -np.sum(A_source, axis=1)\n",
    "    b = freestream.u_inf * np.sin([freestream.alpha - panel.beta\n",
    "                                   for panel in panels])\n",
    "    strengths = np.append([panel.sigma for panel in panels], gamma)\n",
    "    tangential_velocities = np.dot(A, strengths) + b\n",
    "    for i, panel in enumerate(panels):\n",
    "        panel.vt = tangential_velocities[i]\n",
    "        \n",
    "def compute_pressure_coefficient(panels, freestream):\n",
    "    for panel in panels:\n",
    "        panel.cp = 1.0 - (panel.vt / freestream.u_inf)**2\n"
   ]
  },
  {
   "cell_type": "code",
   "execution_count": 8,
   "metadata": {},
   "outputs": [],
   "source": [
    "A_source = source_contribution_normal(panels)\n",
    "B_vortex = vortex_contribution_normal(panels)\n",
    "A = build_singularity_matrix(A_source, B_vortex)"
   ]
  },
  {
   "cell_type": "code",
   "execution_count": 9,
   "metadata": {},
   "outputs": [],
   "source": [
    "N_alpha = 10\n",
    "alpha = np.linspace(-6.0, 12.0, N_alpha)\n",
    "p_inf = 101325.0 #Pascals\n",
    "rho = 1.225 #kg/m^3\n",
    "Re = 300000.0\n",
    "chord = x.max() - x.min()\n",
    "mu = 1.73 * 10**(-5) #Ns/m^2\n",
    "u_inf = mu * Re / (rho * chord)"
   ]
  },
  {
   "cell_type": "code",
   "execution_count": 10,
   "metadata": {},
   "outputs": [],
   "source": [
    "def Lift(N, panels, freestream, p_inf, rho):\n",
    "    p = np.empty(N, dtype=float)\n",
    "    beta = np.empty(N, dtype=float)\n",
    "    length =np.empty(N, dtype=float)\n",
    "    for j in range(N):\n",
    "        p[j] = p_inf + ((1/2) *  panels[j].cp * rho * freestream.u_inf**2)\n",
    "        beta[j] = panels[j].beta\n",
    "        length[j] = panels[j].length\n",
    "    \n",
    "    Lift = -np.sum(p * np.sin(beta)* length)\n",
    "    return Lift"
   ]
  },
  {
   "cell_type": "code",
   "execution_count": 11,
   "metadata": {},
   "outputs": [],
   "source": [
    "def CL_varying_angles(N_alpha, N, u_inf, alpha, panels, A, A_source, B_vortex, p_inf, rho, chord, un):\n",
    "    L = np.empty(N_alpha, dtype=float)\n",
    "    cp = np.empty((N, N_alpha), dtype=float)\n",
    "    ut = np.empty((N, N_alpha), dtype=float)\n",
    "    for i in range(N_alpha):\n",
    "        freestream = Freestream(u_inf, alpha[i])\n",
    "        b = build_rhs_vector(panels, freestream, un=un)\n",
    "        strengths = np.linalg.solve(A, b)\n",
    "        for k, panel in enumerate(panels):\n",
    "            panel.sigma = strengths[k]\n",
    "        gamma = strengths[-1]\n",
    "        compute_tangential_velocity(panels, freestream, gamma, A_source, B_vortex)\n",
    "        compute_pressure_coefficient(panels, freestream)\n",
    "        for n, panel in enumerate(panels):\n",
    "            cp[n,i] = panel.cp\n",
    "            ut[n,i] = panel.vt\n",
    "        L[i] = Lift(N, panels, freestream, p_inf, rho)\n",
    "    C_L = L / (0.5 * rho * u_inf**2 * chord)\n",
    "    return C_L, cp, ut"
   ]
  },
  {
   "cell_type": "code",
   "execution_count": 12,
   "metadata": {},
   "outputs": [],
   "source": [
    "C_L, cp, ut = CL_varying_angles(N_alpha, N, u_inf, alpha, panels, A, A_source, B_vortex, p_inf, rho, chord, un=0.0)"
   ]
  },
  {
   "cell_type": "code",
   "execution_count": 13,
   "metadata": {},
   "outputs": [
    {
     "name": "stdout",
     "output_type": "stream",
     "text": [
      "[-2.75822768 -1.59679054 -0.73325764 -0.7112646  -0.93504483 -1.21134087\n",
      " -1.82569885 -3.2633758  -5.3582601  -7.95323729]\n",
      "[40. 41. 42. 25. 27. 29. 37. 37. 38. 38.]\n"
     ]
    }
   ],
   "source": [
    "cpmin = np.empty(N_alpha, dtype=float)\n",
    "idx_cpmin = np.empty(N_alpha, dtype=float)\n",
    "for i in range(N_alpha):\n",
    "    cpmin[i] = np.min(cp[:,i])\n",
    "    idx_cpmin[i] = np.argmin(cp[:,i])\n",
    "    \n",
    "print(cpmin)\n",
    "print(idx_cpmin)"
   ]
  },
  {
   "cell_type": "code",
   "execution_count": 14,
   "metadata": {},
   "outputs": [
    {
     "data": {
      "image/png": "[encoded data removed]",
      "text/plain": [
       "<Figure size 432x288 with 1 Axes>"
      ]
     },
     "metadata": {},
     "output_type": "display_data"
    }
   ],
   "source": [
    "py.plot(alpha, C_L)\n",
    "py.plot(Alpha_exp, CL_exp)\n",
    "py.grid();"
   ]
  },
  {
   "cell_type": "code",
   "execution_count": 15,
   "metadata": {},
   "outputs": [],
   "source": [
    "#boundary layer stuff"
   ]
  },
  {
   "cell_type": "code",
   "execution_count": 16,
   "metadata": {},
   "outputs": [],
   "source": [
    "def solve_panel_method(panels, A_source, B_source, freestream, un=0.0):\n",
    "    # Assemble the system.\n",
    "    A = build_singularity_matrix(A_source, B_source)\n",
    "    b = build_rhs_vector(panels, freestream, un=un)\n",
    "    \n",
    "    # Solve the system for the singularity strengths.\n",
    "    strengths = np.linalg.solve(A, b)\n",
    "\n",
    "    # Store the source-sheet strengths and the vortex-sheet strength.\n",
    "    sigmas = strengths[:-1]\n",
    "    gamma = strengths[-1]\n",
    "    \n",
    "    # Compute the tangential velocity component on the panels.\n",
    "    bt =  freestream.u_inf * np.sin([freestream.alpha - p.beta for p in panels])\n",
    "    ut = bt + np.dot(B_source, sigmas) - np.sum(A_source, axis=1) * gamma\n",
    "    \n",
    "    # Compute the pressure coefficient on the panels.\n",
    "    cp = 1 - (ut / freestream.u_inf)**2\n",
    "    \n",
    "    return ut, cp"
   ]
  },
  {
   "cell_type": "code",
   "execution_count": 17,
   "metadata": {},
   "outputs": [],
   "source": [
    "def running_coordinates(panels):\n",
    "    ds = [0.0, 0.5 * panels[0].length]\n",
    "    for i in range(len(panels) - 1):\n",
    "        ds.append(0.5 * (panels[i].length + panels[i + 1].length))\n",
    "    s = np.cumsum(ds)\n",
    "    return s"
   ]
  },
  {
   "cell_type": "code",
   "execution_count": 18,
   "metadata": {},
   "outputs": [],
   "source": [
    "def momentum_thickness(s, Ue, rho, mu):\n",
    "    theta = np.empty_like(Ue)\n",
    "    dUeds = np.gradient(Ue, s)\n",
    "    theta[0] = np.sqrt(0.075 * mu / (rho * dUeds[0]))\n",
    "    coeff = theta[0]**2 * Ue[0]**6\n",
    "    for i in range(1, s.size):\n",
    "        var = (coeff + 0.45 * mu / rho *\n",
    "               np.trapz(Ue[:i + 1]**5, s[:i + 1]))\n",
    "        theta[i] = np.sqrt(var / Ue[i]**6)\n",
    "    return theta\n",
    "\n",
    "def lambda_parameter(s, Ue, theta, rho, mu):\n",
    "    dUeds = np.gradient(Ue, s)\n",
    "    lamb = rho / mu * theta**2 * dUeds\n",
    "    return lamb\n",
    "\n",
    "def l_parameter(lamb):\n",
    "    if lamb > 0.0:\n",
    "        return 0.22 + 1.57 * lamb - 1.8 * lamb**2\n",
    "    return 0.22 + 1.402 * lamb + 0.018 * lamb / (lamb + 0.107)\n",
    "\n",
    "def shape_factor(lamb):\n",
    "    if lamb > 0.0:\n",
    "        return 2.61 - 3.75 * lamb + 5.24 * lamb**2\n",
    "    return 2.088 + 0.0731 / (lamb + 0.14)\n",
    "\n",
    "l_parameter_vec = np.vectorize(l_parameter)\n",
    "shape_factor_vec = np.vectorize(shape_factor)\n",
    "\n",
    "def skin_friction_coefficient(Ue, theta, lamb, rho, mu):\n",
    "    Re_theta = rho * Ue * theta / mu\n",
    "    cf = 2 * l_parameter_vec(lamb) / Re_theta\n",
    "    return cf\n",
    "\n",
    "def thwaites(s, Ue, rho, mu):\n",
    "    theta = momentum_thickness(s, Ue, rho, mu)\n",
    "    lamb = lambda_parameter(s, Ue, theta, rho, mu)\n",
    "    H = shape_factor_vec(lamb)\n",
    "    cf = skin_friction_coefficient(Ue, theta, lamb, rho, mu)\n",
    "    return theta, H, cf"
   ]
  },
  {
   "cell_type": "code",
   "execution_count": 19,
   "metadata": {},
   "outputs": [],
   "source": [
    "panelsb = np.empty(N, dtype=object)\n",
    "for i in range(N):\n",
    "    panelsb[i] = Panel(x[i], y[i], x[i+1], y[i+1])\n",
    "freestream = Freestream(u_inf, 4.0)\n",
    "uti, cpi = solve_panel_method(panels, A_source, B_vortex, freestream, 0.0)"
   ]
  },
  {
   "cell_type": "code",
   "execution_count": 20,
   "metadata": {},
   "outputs": [],
   "source": [
    "utvis = np.empty((N,N_alpha), dtype=float)\n",
    "cpvis = np.empty((N,N_alpha), dtype=float)\n",
    "C_L_vis = np.empty(N_alpha, dtype=float)\n",
    "for i in range(N_alpha):\n",
    "    freestream = Freestream(u_inf, alpha[i])\n",
    "    uti, cpi = solve_panel_method(panels, A_source, B_vortex, freestream, 0.0)\n",
    "    idx = np.where(uti >= 0.0)[0][0]\n",
    "    x_stagn, y_stagn = panels[idx].xa, panels[idx].ya\n",
    "    upper = panels[idx - 1::-1]\n",
    "    lower = panels[idx:]\n",
    "    s_upper = running_coordinates(upper)\n",
    "    s_lower = running_coordinates(lower)\n",
    "    Ue_upper = np.empty(len(upper) + 1)\n",
    "    Ue_upper[0] = 1e-6\n",
    "    Ue_upper[1:] = -uti[idx - 1::-1]\n",
    "    Ue_lower = np.empty(len(lower) + 1)\n",
    "    Ue_lower[0] = 1e-6\n",
    "    Ue_lower[1:] = uti[idx:]\n",
    "    theta, H, cf = thwaites(s_upper, Ue_upper, rho, mu)\n",
    "    delta = theta * H  # displacement thickness\n",
    "    un_upper = np.gradient(Ue_upper * delta, s_upper)\n",
    "    theta, H, cf = thwaites(s_lower, Ue_lower, rho, mu)\n",
    "    delta = theta * H  # displacement thickness\n",
    "    un_lower = np.gradient(Ue_lower * delta, s_lower)\n",
    "    un = np.concatenate((un_upper[:0:-1], un_lower[1:]))\n",
    "    utvis[:,i], cpvis[:,i] = solve_panel_method(panels, A_source, B_vortex, freestream, un=un)\n",
    "    p = p_inf + 0.25 * cpvis[:,i] * rho * freestream.u_inf**2\n",
    "    beta = np.empty(N, dtype=float)\n",
    "    length =np.empty(N, dtype=float)\n",
    "    for j in range(N):\n",
    "        beta[j] = panels[j].beta\n",
    "        length[j] = panels[j].length\n",
    "    Lift = -np.sum(p * np.sin(beta)* length)\n",
    "    C_L_vis[i] = Lift / (0.5 * rho * u_inf**2 * chord)"
   ]
  },
  {
   "cell_type": "code",
   "execution_count": 21,
   "metadata": {},
   "outputs": [
    {
     "data": {
      "image/png": "[encoded data removed]",
      "text/plain": [
       "<Figure size 432x288 with 1 Axes>"
      ]
     },
     "metadata": {},
     "output_type": "display_data"
    }
   ],
   "source": [
    "py.plot(alpha, C_L)\n",
    "py.plot(Alpha_exp, CL_exp)\n",
    "py.plot(alpha, C_L_vis)\n",
    "py.grid();"
   ]
  },
  {
   "cell_type": "code",
   "execution_count": 70,
   "metadata": {},
   "outputs": [
    {
     "ename": "ValueError",
     "evalue": "when 1d, distances must match the length of the corresponding dimension",
     "output_type": "error",
     "traceback": [
      "\u001b[0;31m---------------------------------------------------------------------------\u001b[0m",
      "\u001b[0;31mValueError\u001b[0m                                Traceback (most recent call last)",
      "\u001b[0;32m<ipython-input-70-edc9150bda5f>\u001b[0m in \u001b[0;36m<module>\u001b[0;34m()\u001b[0m\n\u001b[1;32m     22\u001b[0m \u001b[0mUe_lower\u001b[0m\u001b[0;34m[\u001b[0m\u001b[0;36m0\u001b[0m\u001b[0;34m]\u001b[0m \u001b[0;34m=\u001b[0m \u001b[0;36m1e-6\u001b[0m\u001b[0;34m\u001b[0m\u001b[0m\n\u001b[1;32m     23\u001b[0m \u001b[0mUe_lower\u001b[0m\u001b[0;34m[\u001b[0m\u001b[0;36m1\u001b[0m\u001b[0;34m:\u001b[0m\u001b[0;34m]\u001b[0m \u001b[0;34m=\u001b[0m \u001b[0muti\u001b[0m\u001b[0;34m[\u001b[0m\u001b[0midx\u001b[0m\u001b[0;34m:\u001b[0m\u001b[0;34m]\u001b[0m\u001b[0;34m\u001b[0m\u001b[0m\n\u001b[0;32m---> 24\u001b[0;31m \u001b[0mtheta\u001b[0m\u001b[0;34m,\u001b[0m \u001b[0mH\u001b[0m\u001b[0;34m,\u001b[0m \u001b[0mcf\u001b[0m \u001b[0;34m=\u001b[0m \u001b[0mthwaites\u001b[0m\u001b[0;34m(\u001b[0m\u001b[0ms_upper_laminar\u001b[0m\u001b[0;34m,\u001b[0m \u001b[0mUe_upper\u001b[0m\u001b[0;34m,\u001b[0m \u001b[0mrho\u001b[0m\u001b[0;34m,\u001b[0m \u001b[0mmu\u001b[0m\u001b[0;34m)\u001b[0m\u001b[0;34m\u001b[0m\u001b[0m\n\u001b[0m\u001b[1;32m     25\u001b[0m \u001b[0mdelta\u001b[0m \u001b[0;34m=\u001b[0m \u001b[0mtheta\u001b[0m \u001b[0;34m*\u001b[0m \u001b[0mH\u001b[0m  \u001b[0;31m# displacement thickness\u001b[0m\u001b[0;34m\u001b[0m\u001b[0m\n\u001b[1;32m     26\u001b[0m \u001b[0mun_upper_laminar\u001b[0m \u001b[0;34m=\u001b[0m \u001b[0mnp\u001b[0m\u001b[0;34m.\u001b[0m\u001b[0mgradient\u001b[0m\u001b[0;34m(\u001b[0m\u001b[0mUe_upper\u001b[0m \u001b[0;34m*\u001b[0m \u001b[0mdelta\u001b[0m\u001b[0;34m,\u001b[0m \u001b[0ms_upper\u001b[0m\u001b[0;34m)\u001b[0m\u001b[0;34m\u001b[0m\u001b[0m\n",
      "\u001b[0;32m<ipython-input-18-b14323d54fb9>\u001b[0m in \u001b[0;36mthwaites\u001b[0;34m(s, Ue, rho, mu)\u001b[0m\n\u001b[1;32m     34\u001b[0m \u001b[0;34m\u001b[0m\u001b[0m\n\u001b[1;32m     35\u001b[0m \u001b[0;32mdef\u001b[0m \u001b[0mthwaites\u001b[0m\u001b[0;34m(\u001b[0m\u001b[0ms\u001b[0m\u001b[0;34m,\u001b[0m \u001b[0mUe\u001b[0m\u001b[0;34m,\u001b[0m \u001b[0mrho\u001b[0m\u001b[0;34m,\u001b[0m \u001b[0mmu\u001b[0m\u001b[0;34m)\u001b[0m\u001b[0;34m:\u001b[0m\u001b[0;34m\u001b[0m\u001b[0m\n\u001b[0;32m---> 36\u001b[0;31m     \u001b[0mtheta\u001b[0m \u001b[0;34m=\u001b[0m \u001b[0mmomentum_thickness\u001b[0m\u001b[0;34m(\u001b[0m\u001b[0ms\u001b[0m\u001b[0;34m,\u001b[0m \u001b[0mUe\u001b[0m\u001b[0;34m,\u001b[0m \u001b[0mrho\u001b[0m\u001b[0;34m,\u001b[0m \u001b[0mmu\u001b[0m\u001b[0;34m)\u001b[0m\u001b[0;34m\u001b[0m\u001b[0m\n\u001b[0m\u001b[1;32m     37\u001b[0m     \u001b[0mlamb\u001b[0m \u001b[0;34m=\u001b[0m \u001b[0mlambda_parameter\u001b[0m\u001b[0;34m(\u001b[0m\u001b[0ms\u001b[0m\u001b[0;34m,\u001b[0m \u001b[0mUe\u001b[0m\u001b[0;34m,\u001b[0m \u001b[0mtheta\u001b[0m\u001b[0;34m,\u001b[0m \u001b[0mrho\u001b[0m\u001b[0;34m,\u001b[0m \u001b[0mmu\u001b[0m\u001b[0;34m)\u001b[0m\u001b[0;34m\u001b[0m\u001b[0m\n\u001b[1;32m     38\u001b[0m     \u001b[0mH\u001b[0m \u001b[0;34m=\u001b[0m \u001b[0mshape_factor_vec\u001b[0m\u001b[0;34m(\u001b[0m\u001b[0mlamb\u001b[0m\u001b[0;34m)\u001b[0m\u001b[0;34m\u001b[0m\u001b[0m\n",
      "\u001b[0;32m<ipython-input-18-b14323d54fb9>\u001b[0m in \u001b[0;36mmomentum_thickness\u001b[0;34m(s, Ue, rho, mu)\u001b[0m\n\u001b[1;32m      1\u001b[0m \u001b[0;32mdef\u001b[0m \u001b[0mmomentum_thickness\u001b[0m\u001b[0;34m(\u001b[0m\u001b[0ms\u001b[0m\u001b[0;34m,\u001b[0m \u001b[0mUe\u001b[0m\u001b[0;34m,\u001b[0m \u001b[0mrho\u001b[0m\u001b[0;34m,\u001b[0m \u001b[0mmu\u001b[0m\u001b[0;34m)\u001b[0m\u001b[0;34m:\u001b[0m\u001b[0;34m\u001b[0m\u001b[0m\n\u001b[1;32m      2\u001b[0m     \u001b[0mtheta\u001b[0m \u001b[0;34m=\u001b[0m \u001b[0mnp\u001b[0m\u001b[0;34m.\u001b[0m\u001b[0mempty_like\u001b[0m\u001b[0;34m(\u001b[0m\u001b[0mUe\u001b[0m\u001b[0;34m)\u001b[0m\u001b[0;34m\u001b[0m\u001b[0m\n\u001b[0;32m----> 3\u001b[0;31m     \u001b[0mdUeds\u001b[0m \u001b[0;34m=\u001b[0m \u001b[0mnp\u001b[0m\u001b[0;34m.\u001b[0m\u001b[0mgradient\u001b[0m\u001b[0;34m(\u001b[0m\u001b[0mUe\u001b[0m\u001b[0;34m,\u001b[0m \u001b[0ms\u001b[0m\u001b[0;34m)\u001b[0m\u001b[0;34m\u001b[0m\u001b[0m\n\u001b[0m\u001b[1;32m      4\u001b[0m     \u001b[0mtheta\u001b[0m\u001b[0;34m[\u001b[0m\u001b[0;36m0\u001b[0m\u001b[0;34m]\u001b[0m \u001b[0;34m=\u001b[0m \u001b[0mnp\u001b[0m\u001b[0;34m.\u001b[0m\u001b[0msqrt\u001b[0m\u001b[0;34m(\u001b[0m\u001b[0;36m0.075\u001b[0m \u001b[0;34m*\u001b[0m \u001b[0mmu\u001b[0m \u001b[0;34m/\u001b[0m \u001b[0;34m(\u001b[0m\u001b[0mrho\u001b[0m \u001b[0;34m*\u001b[0m \u001b[0mdUeds\u001b[0m\u001b[0;34m[\u001b[0m\u001b[0;36m0\u001b[0m\u001b[0;34m]\u001b[0m\u001b[0;34m)\u001b[0m\u001b[0;34m)\u001b[0m\u001b[0;34m\u001b[0m\u001b[0m\n\u001b[1;32m      5\u001b[0m     \u001b[0mcoeff\u001b[0m \u001b[0;34m=\u001b[0m \u001b[0mtheta\u001b[0m\u001b[0;34m[\u001b[0m\u001b[0;36m0\u001b[0m\u001b[0;34m]\u001b[0m\u001b[0;34m**\u001b[0m\u001b[0;36m2\u001b[0m \u001b[0;34m*\u001b[0m \u001b[0mUe\u001b[0m\u001b[0;34m[\u001b[0m\u001b[0;36m0\u001b[0m\u001b[0;34m]\u001b[0m\u001b[0;34m**\u001b[0m\u001b[0;36m6\u001b[0m\u001b[0;34m\u001b[0m\u001b[0m\n",
      "\u001b[0;32m/opt/conda/lib/python3.6/site-packages/numpy/lib/function_base.py\u001b[0m in \u001b[0;36mgradient\u001b[0;34m(f, *varargs, **kwargs)\u001b[0m\n\u001b[1;32m    936\u001b[0m                 \u001b[0;32mraise\u001b[0m \u001b[0mValueError\u001b[0m\u001b[0;34m(\u001b[0m\u001b[0;34m\"distances must be either scalars or 1d\"\u001b[0m\u001b[0;34m)\u001b[0m\u001b[0;34m\u001b[0m\u001b[0m\n\u001b[1;32m    937\u001b[0m             \u001b[0;32mif\u001b[0m \u001b[0mlen\u001b[0m\u001b[0;34m(\u001b[0m\u001b[0mdistances\u001b[0m\u001b[0;34m)\u001b[0m \u001b[0;34m!=\u001b[0m \u001b[0mf\u001b[0m\u001b[0;34m.\u001b[0m\u001b[0mshape\u001b[0m\u001b[0;34m[\u001b[0m\u001b[0maxes\u001b[0m\u001b[0;34m[\u001b[0m\u001b[0mi\u001b[0m\u001b[0;34m]\u001b[0m\u001b[0;34m]\u001b[0m\u001b[0;34m:\u001b[0m\u001b[0;34m\u001b[0m\u001b[0m\n\u001b[0;32m--> 938\u001b[0;31m                 raise ValueError(\"when 1d, distances must match \"\n\u001b[0m\u001b[1;32m    939\u001b[0m                                  \"the length of the corresponding dimension\")\n\u001b[1;32m    940\u001b[0m             \u001b[0mdiffx\u001b[0m \u001b[0;34m=\u001b[0m \u001b[0mnp\u001b[0m\u001b[0;34m.\u001b[0m\u001b[0mdiff\u001b[0m\u001b[0;34m(\u001b[0m\u001b[0mdistances\u001b[0m\u001b[0;34m)\u001b[0m\u001b[0;34m\u001b[0m\u001b[0m\n",
      "\u001b[0;31mValueError\u001b[0m: when 1d, distances must match the length of the corresponding dimension"
     ]
    }
   ],
   "source": [
    "freestream = Freestream(u_inf, 0.0)\n",
    "ut, cp = solve_panel_method(panels, A_source, B_vortex, freestream, 0.0)\n",
    "idx = np.where(uti >= 0.0)[0][0]\n",
    "x_stagn, y_stagn = panels[idx].xa, panels[idx].ya\n",
    "upper = panels[idx - 1::-1]\n",
    "lower = panels[idx:]\n",
    "s_upper = running_coordinates(upper)\n",
    "s_lower = running_coordinates(lower)\n",
    "cp_upper = cp[idx - 1::-1]\n",
    "cp_lower = cp[idx:]\n",
    "\n",
    "s_upper_laminar = s_upper[:cp_upper.argmin()]\n",
    "s_upper_turbulent = s_upper[cp_upper.argmin():]\n",
    "\n",
    "s_lower_laminar = s_lower[:cp_lower.argmin()]\n",
    "s_lower_turbulent = s_lower[cp_lower.argmin():]\n",
    "\n",
    "Ue_upper = np.empty(len(upper) + 1)\n",
    "Ue_upper[0] = 1e-6\n",
    "Ue_upper[1:] = -uti[idx - 1::-1]\n",
    "Ue_lower = np.empty(len(lower) + 1)\n",
    "Ue_lower[0] = 1e-6\n",
    "Ue_lower[1:] = uti[idx:]\n",
    "theta, H, cf = thwaites(s_upper_laminar, Ue_upper, rho, mu)\n",
    "delta = theta * H  # displacement thickness\n",
    "un_upper_laminar = np.gradient(Ue_upper * delta, s_upper)\n",
    "theta, H, cf = thwaites(s_lower_laminar, Ue_lower, rho, mu)\n",
    "delta = theta * H  # displacement thickness\n",
    "un_lower_laminar = np.gradient(Ue_lower * delta, s_lower)"
   ]
  },
  {
   "cell_type": "code",
   "execution_count": null,
   "metadata": {},
   "outputs": [],
   "source": []
  }
 ],
 "metadata": {
  "kernelspec": {
   "display_name": "Python 3",
   "language": "python",
   "name": "python3"
  },
  "language_info": {
   "codemirror_mode": {
    "name": "ipython",
    "version": 3
   },
   "file_extension": ".py",
   "mimetype": "text/x-python",
   "name": "python",
   "nbconvert_exporter": "python",
   "pygments_lexer": "ipython3",
   "version": "3.6.2"
  }
 },
 "nbformat": 4,
 "nbformat_minor": 2
}
